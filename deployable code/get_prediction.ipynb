{
 "cells": [
  {
   "cell_type": "code",
   "execution_count": 2,
   "metadata": {},
   "outputs": [],
   "source": [
    "import import_ipynb\n",
    "from utils import mask2rle,combined_loss,dice_coef\n",
    "import cv2\n",
    "import tensorflow as tf\n",
    "from tensorflow import keras\n",
    "from tqdm import tqdm\n",
    "def predict_results(test_files_png):\n",
    "    '''\n",
    "         Given a list of chest Xray image files it generates prediction results for Pneumothorax disease\n",
    "        Args:\n",
    "            test_files_png : List of files for which we need to generate predictions\n",
    "        Returns:\n",
    "                None\n",
    "    '''\n",
    "    model_seg = tf.keras.models.load_model('models/Uefficientnetb4',custom_objects={'combined_loss' :combined_loss, \n",
    "                                                                             'dice_coef' : dice_coef})\n",
    "    d = dict()\n",
    "    for file in tqdm(test_files_png):\n",
    "        img = tf.io.read_file(file)\n",
    "        img = tf.image.decode_png(img, channels= N_CHANNELS)\n",
    "        img = tf.image.convert_image_dtype(img, tf.float32) \n",
    "        img = tf.image.resize(img, [IMG_WIDTH, IMG_HEIGHT]) \n",
    "        img.set_shape((IMG_HEIGHT,IMG_WIDTH,3))\n",
    "        pred_mask= model_seg.predict(tf.expand_dims(img,axis=0)).reshape((IMG_HEIGHT,IMG_WIDTH))\n",
    "        if (pred_mask > .5).astype(int).sum() >0 :\n",
    "            pred_mask = cv2.resize(pred_mask,(1024,1024))\n",
    "            pred_mask = (pred_mask > .5).astype(int)\n",
    "            #plt.imshow(pred_mask.squeeze())\n",
    "            d[os.path.splitext(file.split('/')[-1])[0]] = mask2rle(pred_mask.T * 255, 1024,1024)\n",
    "        else:\n",
    "            d[os.path.splitext(file.split('/')[-1])[0]] = '-1'\n",
    "    \n",
    "    #Convert the dictionary into a DataFrame\n",
    "    sub = pd.DataFrame.from_dict(d, orient='index')\n",
    "    #Reset index\n",
    "    sub.reset_index(inplace=True)\n",
    "    #Set column names\n",
    "    sub.columns = ['ImageId', 'EncodedPixels']\n",
    "    sub.head()\n",
    "    sub.to_csv('submission.csv', index=False, header=True)"
   ]
  }
 ],
 "metadata": {
  "kernelspec": {
   "display_name": "Python 3",
   "language": "python",
   "name": "python3"
  },
  "language_info": {
   "codemirror_mode": {
    "name": "ipython",
    "version": 3
   },
   "file_extension": ".py",
   "mimetype": "text/x-python",
   "name": "python",
   "nbconvert_exporter": "python",
   "pygments_lexer": "ipython3",
   "version": "3.7.4"
  }
 },
 "nbformat": 4,
 "nbformat_minor": 5
}
