{
 "cells": [
  {
   "cell_type": "code",
   "execution_count": 1,
   "id": "american-fleece",
   "metadata": {},
   "outputs": [],
   "source": [
    "# Declare Config variables \n",
    "TRAIN_DIR =  \"../siim/dicom-images-train/\" \n",
    "TEST_DIR = \"../siim/dicom-images-test/\" \n",
    "LABEL_DIR = '../siim/train-rle.csv'\n",
    "IMG_WIDTH,IMG_HEIGHT,N_CHANNELS = 256,256,3,\n",
    "BATCH_SIZE = 16\n",
    "N_CLASS = 2\n",
    "NB_EPOCH = 10"
   ]
  }
 ],
 "metadata": {
  "kernelspec": {
   "display_name": "Python 3",
   "language": "python",
   "name": "python3"
  },
  "language_info": {
   "codemirror_mode": {
    "name": "ipython",
    "version": 3
   },
   "file_extension": ".py",
   "mimetype": "text/x-python",
   "name": "python",
   "nbconvert_exporter": "python",
   "pygments_lexer": "ipython3",
   "version": "3.7.9"
  }
 },
 "nbformat": 4,
 "nbformat_minor": 5
}
