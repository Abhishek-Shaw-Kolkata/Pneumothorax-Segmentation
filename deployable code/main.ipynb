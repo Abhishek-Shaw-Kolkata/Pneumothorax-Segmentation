{
 "cells": [
  {
   "cell_type": "code",
   "execution_count": null,
   "metadata": {},
   "outputs": [
    {
     "name": "stdout",
     "output_type": "stream",
     "text": [
      "Total time taken 0:01:50.775024\n",
      "There are 42 rows that does not have Class label\n"
     ]
    },
    {
     "name": "stderr",
     "output_type": "stream",
     "text": [
      "2357it [00:24, 124.58it/s]"
     ]
    }
   ],
   "source": [
    "import import_ipynb\n",
    "import config\n",
    "import utils\n",
    "import importlib\n",
    "import Preprocessing\n",
    "import model \n",
    "import get_prediction\n",
    "\n",
    "train_files = utils.get_list_of_files(config.TRAIN_DIR)\n",
    "test_files = utils.get_list_of_files(config.TEST_DIR)\n",
    "Preprocessing.pre_process(train_files,test_files,label_path = config.LABEL_DIR)\n",
    "model.train_model()\n",
    "test_files_png = sorted(utils.get_list_of_files(\"./test_png/\"))\n",
    "get_prediction.predict_results(test_files_png)"
   ]
  }
 ],
 "metadata": {
  "kernelspec": {
   "display_name": "Python 3",
   "language": "python",
   "name": "python3"
  },
  "language_info": {
   "codemirror_mode": {
    "name": "ipython",
    "version": 3
   },
   "file_extension": ".py",
   "mimetype": "text/x-python",
   "name": "python",
   "nbconvert_exporter": "python",
   "pygments_lexer": "ipython3",
   "version": "3.7.4"
  }
 },
 "nbformat": 4,
 "nbformat_minor": 5
}
